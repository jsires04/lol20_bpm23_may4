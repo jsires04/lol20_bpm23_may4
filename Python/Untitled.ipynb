{
 "cells": [
  {
   "cell_type": "code",
   "execution_count": 1,
   "metadata": {},
   "outputs": [
    {
     "name": "stdout",
     "output_type": "stream",
     "text": [
      "{'name': 'Clark', 'superhero': 'Superman'}\n"
     ]
    }
   ],
   "source": [
    "non_empty_dict = {\"name\":\"Clark\", \"superhero\":\"Superman\"}\n",
    "print(non_empty_dict)"
   ]
  },
  {
   "cell_type": "code",
   "execution_count": 2,
   "metadata": {},
   "outputs": [
    {
     "data": {
      "text/plain": [
       "dict_keys(['name', 'superhero'])"
      ]
     },
     "execution_count": 2,
     "metadata": {},
     "output_type": "execute_result"
    }
   ],
   "source": [
    "non_empty_dict.keys()"
   ]
  },
  {
   "cell_type": "code",
   "execution_count": 3,
   "metadata": {},
   "outputs": [
    {
     "name": "stdout",
     "output_type": "stream",
     "text": [
      "{'ten': 10, 'nine': 9, 'eight': 8}\n"
     ]
    }
   ],
   "source": [
    "dict_4 = dict([(\"ten\",10), (\"nine\",9), (\"eight\",8)])\n",
    "print(dict_4)"
   ]
  },
  {
   "cell_type": "code",
   "execution_count": 4,
   "metadata": {},
   "outputs": [
    {
     "name": "stdout",
     "output_type": "stream",
     "text": [
      "{'names': ['Clark', 'Bruce'], 'type': 'superhero'}\n"
     ]
    }
   ],
   "source": [
    "dict_7 = {\"names\":[\"Clark\", \"Bruce\"], \"type\":\"superhero\"}\n",
    "print(dict_7)"
   ]
  },
  {
   "cell_type": "code",
   "execution_count": 6,
   "metadata": {},
   "outputs": [
    {
     "data": {
      "text/plain": [
       "'Bruce'"
      ]
     },
     "execution_count": 6,
     "metadata": {},
     "output_type": "execute_result"
    }
   ],
   "source": [
    "dict_7 [\"names\"][1]"
   ]
  },
  {
   "cell_type": "code",
   "execution_count": 9,
   "metadata": {},
   "outputs": [
    {
     "data": {
      "text/plain": [
       "'superhero'"
      ]
     },
     "execution_count": 9,
     "metadata": {},
     "output_type": "execute_result"
    }
   ],
   "source": [
    "dict_7 [\"type\"]"
   ]
  },
  {
   "cell_type": "code",
   "execution_count": 10,
   "metadata": {},
   "outputs": [
    {
     "data": {
      "text/plain": [
       "dict_values([['Clark', 'Bruce'], 'superhero'])"
      ]
     },
     "execution_count": 10,
     "metadata": {},
     "output_type": "execute_result"
    }
   ],
   "source": [
    "dict_7.values()"
   ]
  },
  {
   "cell_type": "code",
   "execution_count": 14,
   "metadata": {},
   "outputs": [
    {
     "name": "stdout",
     "output_type": "stream",
     "text": [
      "You aren't Bruce\n"
     ]
    }
   ],
   "source": [
    "person = \"Clark\"\n",
    "if person == \"Bruce\":\n",
    "    print(\"Bruce is the best\")\n",
    "else:\n",
    "    print (\"You aren't Bruce\")"
   ]
  },
  {
   "cell_type": "code",
   "execution_count": 16,
   "metadata": {},
   "outputs": [
    {
     "name": "stdout",
     "output_type": "stream",
     "text": [
      "a is odd\n"
     ]
    }
   ],
   "source": [
    "a = 3\n",
    "if a % 2 == 0:\n",
    "    print(\"a is even\")\n",
    "else:\n",
    "    print(\"a is odd\")\n"
   ]
  },
  {
   "cell_type": "code",
   "execution_count": 22,
   "metadata": {},
   "outputs": [
    {
     "name": "stdout",
     "output_type": "stream",
     "text": [
      "No one is the best on Sunday\n"
     ]
    }
   ],
   "source": [
    "person = \"Clark\"\n",
    "day = \"Sunday\"\n",
    "if person == \"Clark\":\n",
    "    if day in [\"Monday\", \"Tuesday\", \"Wednesday\", \"Friday\", \"Saturday\"]:\n",
    "        print(\"Bruce is the best\")\n",
    "    elif day == \"Thursday\":\n",
    "        print(\"Only Clark is the best on Thursday\")\n",
    "    else:\n",
    "        print(\"No one is the best on Sunday\")\n",
    "else:\n",
    "    if day == \"Thursday\":\n",
    "        print(\"Clark is the best\")\n",
    "    else:\n",
    "        print(\"No one is the best\")"
   ]
  },
  {
   "cell_type": "code",
   "execution_count": 19,
   "metadata": {},
   "outputs": [
    {
     "name": "stdout",
     "output_type": "stream",
     "text": [
      "Clark has no weaknesses\n"
     ]
    }
   ],
   "source": [
    "clarks_weaknesses = None\n",
    "\n",
    "if (clarks_weaknesses):\n",
    "    print(\"Clark has weaknesses\")\n",
    "else:\n",
    "    print(\"Clark has no weaknesses\")"
   ]
  },
  {
   "cell_type": "code",
   "execution_count": 20,
   "metadata": {},
   "outputs": [
    {
     "name": "stdout",
     "output_type": "stream",
     "text": [
      "Clark has weaknesses\n"
     ]
    }
   ],
   "source": [
    "clarks_weaknesses = \"kryptonite\"\n",
    "\n",
    "if (clarks_weaknesses):\n",
    "    print(\"Clark has weaknesses\")\n",
    "else:\n",
    "    print(\"Clark has no weaknesses\")"
   ]
  },
  {
   "cell_type": "code",
   "execution_count": 24,
   "metadata": {},
   "outputs": [
    {
     "name": "stdout",
     "output_type": "stream",
     "text": [
      "Your mama\n",
      "Your mama\n",
      "Your mama\n",
      "Your mama\n",
      "Your mama\n",
      "Your mama\n"
     ]
    }
   ],
   "source": [
    "for i in range(1,12,2):\n",
    "    print(\"Your mama\")"
   ]
  },
  {
   "cell_type": "code",
   "execution_count": 25,
   "metadata": {},
   "outputs": [
    {
     "name": "stdout",
     "output_type": "stream",
     "text": [
      "6\n"
     ]
    }
   ],
   "source": [
    "my_list = [1, 2, 3]\n",
    "sum_list = 0\n",
    "sum_list += my_list[0]\n",
    "sum_list += my_list[1]\n",
    "sum_list += my_list[2]\n",
    "\n",
    "print(sum_list)"
   ]
  },
  {
   "cell_type": "code",
   "execution_count": 27,
   "metadata": {},
   "outputs": [
    {
     "name": "stdout",
     "output_type": "stream",
     "text": [
      "15\n"
     ]
    }
   ],
   "source": [
    "my_list = [1, 2, 3, 4, 5]\n",
    "sum_list = 0\n",
    "for num in my_list:\n",
    "    sum_list += num\n",
    "\n",
    "print(sum_list)"
   ]
  },
  {
   "cell_type": "code",
   "execution_count": 28,
   "metadata": {},
   "outputs": [
    {
     "name": "stderr",
     "output_type": "stream",
     "text": [
      "C:\\Users\\jsire\\Anaconda3\\lib\\site-packages\\ipykernel_launcher.py:1: DeprecationWarning: Using or importing the ABCs from 'collections' instead of from 'collections.abc' is deprecated, and in 3.8 it will stop working\n",
      "  \"\"\"Entry point for launching an IPython kernel.\n"
     ]
    }
   ],
   "source": []
  },
  {
   "cell_type": "code",
   "execution_count": null,
   "metadata": {},
   "outputs": [],
   "source": []
  }
 ],
 "metadata": {
  "kernelspec": {
   "display_name": "Python 3",
   "language": "python",
   "name": "python3"
  },
  "language_info": {
   "codemirror_mode": {
    "name": "ipython",
    "version": 3
   },
   "file_extension": ".py",
   "mimetype": "text/x-python",
   "name": "python",
   "nbconvert_exporter": "python",
   "pygments_lexer": "ipython3",
   "version": "3.7.4"
  }
 },
 "nbformat": 4,
 "nbformat_minor": 2
}
