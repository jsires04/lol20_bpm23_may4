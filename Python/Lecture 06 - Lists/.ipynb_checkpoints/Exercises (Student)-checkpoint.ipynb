{
 "cells": [
  {
   "cell_type": "markdown",
   "metadata": {},
   "source": [
    "# Exercises: Lists"
   ]
  },
  {
   "cell_type": "markdown",
   "metadata": {},
   "source": [
    "## Simple Slicing\n",
    "\n",
    "For the list `list1` below,\n",
    "\n",
    "A) Write a slice that returns [0,2,4,6,8] \n",
    "\n",
    "B) Write a slice that returns [1,3,5,7]\n",
    "\n",
    "C) Write a slice that returns [6,5,4,3]\n",
    "\n",
    "D) Write a slice that return [8,5,2]"
   ]
  },
  {
   "cell_type": "code",
   "execution_count": 1,
   "metadata": {
    "ExecuteTime": {
     "end_time": "2019-12-20T06:14:03.904725Z",
     "start_time": "2019-12-20T06:14:03.888082Z"
    }
   },
   "outputs": [
    {
     "data": {
      "text/plain": [
       "[0, 2, 4, 6, 8]"
      ]
     },
     "execution_count": 1,
     "metadata": {},
     "output_type": "execute_result"
    }
   ],
   "source": [
    "# your solution here\n",
    "list1 = [0,1,2,3,4,5,6,7,8,9]\n",
    "\n",
    "# A\n",
    "list1 [::2]"
   ]
  },
  {
   "cell_type": "code",
   "execution_count": 2,
   "metadata": {
    "ExecuteTime": {
     "end_time": "2019-12-20T06:14:03.940972Z",
     "start_time": "2019-12-20T06:14:03.907575Z"
    }
   },
   "outputs": [
    {
     "data": {
      "text/plain": [
       "[1, 3, 5, 7, 9]"
      ]
     },
     "execution_count": 2,
     "metadata": {},
     "output_type": "execute_result"
    }
   ],
   "source": [
    "list1[1::2]\n"
   ]
  },
  {
   "cell_type": "code",
   "execution_count": 4,
   "metadata": {
    "ExecuteTime": {
     "end_time": "2019-12-20T06:14:03.949357Z",
     "start_time": "2019-12-20T06:14:03.944942Z"
    }
   },
   "outputs": [
    {
     "data": {
      "text/plain": [
       "[6, 5, 4, 3]"
      ]
     },
     "execution_count": 4,
     "metadata": {},
     "output_type": "execute_result"
    }
   ],
   "source": [
    "list1 [-4:-8:-1]\n"
   ]
  },
  {
   "cell_type": "code",
   "execution_count": 5,
   "metadata": {
    "ExecuteTime": {
     "end_time": "2019-12-20T06:14:03.959619Z",
     "start_time": "2019-12-20T06:14:03.953106Z"
    }
   },
   "outputs": [
    {
     "data": {
      "text/plain": [
       "[8, 5, 2]"
      ]
     },
     "execution_count": 5,
     "metadata": {},
     "output_type": "execute_result"
    }
   ],
   "source": [
    "list1 [-2::-3]\n"
   ]
  },
  {
   "cell_type": "markdown",
   "metadata": {},
   "source": [
    "## Slicing Nested Lists\n",
    "\n",
    "For the list `list2` below,\n",
    "\n",
    "A) Write a slice that returns [2,['a','b','c'],0] \n",
    "\n",
    "B) Write a slice that return ['a','b','c']\n",
    "\n",
    "C) Write a slice that returns ['b','c']\n",
    "\n",
    "D) Write a slice that returns ['c','a']\n",
    "\n",
    "E) Write a slice that returns [2,0]\n",
    "\n",
    "F) Write a slide that returns ['c','b','a']"
   ]
  },
  {
   "cell_type": "code",
   "execution_count": 7,
   "metadata": {
    "ExecuteTime": {
     "end_time": "2019-12-20T06:14:03.967218Z",
     "start_time": "2019-12-20T06:14:03.962593Z"
    }
   },
   "outputs": [
    {
     "data": {
      "text/plain": [
       "[2, ['a', 'b', 'c'], 0]"
      ]
     },
     "execution_count": 7,
     "metadata": {},
     "output_type": "execute_result"
    }
   ],
   "source": [
    "list2 = [0,['a','b','c'],2]\n",
    "\n",
    "list2[::-1]"
   ]
  },
  {
   "cell_type": "code",
   "execution_count": 10,
   "metadata": {
    "ExecuteTime": {
     "end_time": "2019-12-20T06:14:03.973088Z",
     "start_time": "2019-12-20T06:14:03.969751Z"
    }
   },
   "outputs": [
    {
     "data": {
      "text/plain": [
       "['a', 'b', 'c']"
      ]
     },
     "execution_count": 10,
     "metadata": {},
     "output_type": "execute_result"
    }
   ],
   "source": [
    "list2[1]"
   ]
  },
  {
   "cell_type": "code",
   "execution_count": 14,
   "metadata": {
    "ExecuteTime": {
     "end_time": "2019-12-20T06:14:03.981832Z",
     "start_time": "2019-12-20T06:14:03.977910Z"
    }
   },
   "outputs": [
    {
     "data": {
      "text/plain": [
       "['b', 'c']"
      ]
     },
     "execution_count": 14,
     "metadata": {},
     "output_type": "execute_result"
    }
   ],
   "source": [
    "list2[1][1:]\n"
   ]
  },
  {
   "cell_type": "code",
   "execution_count": 19,
   "metadata": {
    "ExecuteTime": {
     "end_time": "2019-12-20T06:14:03.990544Z",
     "start_time": "2019-12-20T06:14:03.986375Z"
    }
   },
   "outputs": [
    {
     "data": {
      "text/plain": [
       "['c', 'a']"
      ]
     },
     "execution_count": 19,
     "metadata": {},
     "output_type": "execute_result"
    }
   ],
   "source": [
    "list2[1][-1:-4:-2]"
   ]
  },
  {
   "cell_type": "code",
   "execution_count": 23,
   "metadata": {
    "ExecuteTime": {
     "end_time": "2019-12-20T06:14:04.006355Z",
     "start_time": "2019-12-20T06:14:03.993083Z"
    }
   },
   "outputs": [
    {
     "data": {
      "text/plain": [
       "[2, 0]"
      ]
     },
     "execution_count": 23,
     "metadata": {},
     "output_type": "execute_result"
    }
   ],
   "source": [
    "list2[::-2]"
   ]
  },
  {
   "cell_type": "code",
   "execution_count": 24,
   "metadata": {
    "ExecuteTime": {
     "end_time": "2019-12-20T06:14:04.029676Z",
     "start_time": "2019-12-20T06:14:04.014477Z"
    }
   },
   "outputs": [
    {
     "data": {
      "text/plain": [
       "['c', 'b', 'a']"
      ]
     },
     "execution_count": 24,
     "metadata": {},
     "output_type": "execute_result"
    }
   ],
   "source": [
    "list2[1][::-1]\n"
   ]
  },
  {
   "cell_type": "markdown",
   "metadata": {},
   "source": [
    "## List operations\n",
    "\n",
    "For the list `list3` below,\n",
    "\n",
    "A) Find the index ( i ) where a __7__ occurs and return the element from the next index ( i+1 ), in this example if would be 3.\n",
    "\n",
    "B) Calculate the average between the maximum and minimum value of the list\n",
    "\n",
    "C) Using code, determine how many times __3__ occurs in the list\n",
    "\n",
    "D) Replace the last three elements in the list with 'x','y' and 'z', respectively to get [1,8,7,3,'x','y','z']\n",
    "\n",
    "E) Replace the element with index 1 with ['a','b','c'] to get [1,['a','b','c'],7,3,'x','y','z']\n",
    "\n",
    "F) Replace the letter 'b' and 'c' with 'd' and ['e','f'], respectively to get [1,['a','d',['e','f']],7,3,'x','y','z']"
   ]
  },
  {
   "cell_type": "code",
   "execution_count": 26,
   "metadata": {
    "ExecuteTime": {
     "end_time": "2019-12-20T06:14:04.035811Z",
     "start_time": "2019-12-20T06:14:04.033075Z"
    }
   },
   "outputs": [],
   "source": [
    "list3 = [1,8,7,3,2,5,3]\n",
    "\n",
    "# A\n"
   ]
  },
  {
   "cell_type": "code",
   "execution_count": 27,
   "metadata": {
    "ExecuteTime": {
     "end_time": "2019-12-20T06:14:04.042924Z",
     "start_time": "2019-12-20T06:14:04.039838Z"
    }
   },
   "outputs": [
    {
     "data": {
      "text/plain": [
       "4.5"
      ]
     },
     "execution_count": 27,
     "metadata": {},
     "output_type": "execute_result"
    }
   ],
   "source": [
    "(max(list3) + min(list3))/2 "
   ]
  },
  {
   "cell_type": "code",
   "execution_count": 28,
   "metadata": {
    "ExecuteTime": {
     "end_time": "2019-12-20T06:14:04.052251Z",
     "start_time": "2019-12-20T06:14:04.048223Z"
    }
   },
   "outputs": [
    {
     "data": {
      "text/plain": [
       "2"
      ]
     },
     "execution_count": 28,
     "metadata": {},
     "output_type": "execute_result"
    }
   ],
   "source": [
    "list3.count(3)\n"
   ]
  },
  {
   "cell_type": "code",
   "execution_count": 33,
   "metadata": {
    "ExecuteTime": {
     "end_time": "2019-12-20T06:14:04.063668Z",
     "start_time": "2019-12-20T06:14:04.060013Z"
    }
   },
   "outputs": [],
   "source": [
    "list3[1]=[\"a\",\"b\",\"c\"]"
   ]
  },
  {
   "cell_type": "code",
   "execution_count": 34,
   "metadata": {
    "ExecuteTime": {
     "end_time": "2019-12-20T06:14:04.057320Z",
     "start_time": "2019-12-20T06:14:04.054106Z"
    }
   },
   "outputs": [
    {
     "data": {
      "text/plain": [
       "[1, ['a', 'b', 'c'], 7, 3, 'x', 'y', 'z']"
      ]
     },
     "execution_count": 34,
     "metadata": {},
     "output_type": "execute_result"
    }
   ],
   "source": [
    "list3[4:]=[\"x\",\"y\",\"z\"]\n",
    "list3"
   ]
  },
  {
   "cell_type": "code",
   "execution_count": 36,
   "metadata": {
    "ExecuteTime": {
     "end_time": "2019-12-20T06:14:04.072721Z",
     "start_time": "2019-12-20T06:14:04.066944Z"
    }
   },
   "outputs": [
    {
     "data": {
      "text/plain": [
       "[1, ['a', 'b', ['d', 'e']], 7, 3, 'x', 'y', 'z']"
      ]
     },
     "execution_count": 36,
     "metadata": {},
     "output_type": "execute_result"
    }
   ],
   "source": [
    "list3[1][2]=[\"d\",\"e\"]\n",
    "list3\n"
   ]
  },
  {
   "cell_type": "markdown",
   "metadata": {},
   "source": [
    "## Appending, Indexing, Etc.\n",
    "\n",
    "For the list `list4` below,\n",
    "\n",
    "A) Add a __5__ at the end to get [1, 3, 4, 2, 7, 5]\n",
    "\n",
    "B) Add a __7__ at the beginning to get [7, 1, 3, 4, 2, 7, 5]\n",
    "\n",
    "C) Add a __3__ at the index 2 to get [7, 1, 3, 3, 4, 2, 7, 5]\n",
    "\n",
    "D) Remove the last two elements of the list to get [7, 1, 3, 3, 4, 2]\n",
    "\n",
    "E) Reverse the list to get [2, 4, 3, 3, 1, 7]\n",
    "\n",
    "F) Sort the list in place to get [1, 2, 3, 3, 4, 7]"
   ]
  },
  {
   "cell_type": "code",
   "execution_count": 38,
   "metadata": {
    "ExecuteTime": {
     "end_time": "2019-12-20T06:14:04.081227Z",
     "start_time": "2019-12-20T06:14:04.076107Z"
    }
   },
   "outputs": [
    {
     "data": {
      "text/plain": [
       "[1, 3, 4, 2, 7, 5]"
      ]
     },
     "execution_count": 38,
     "metadata": {},
     "output_type": "execute_result"
    }
   ],
   "source": [
    "list4 = [ 1, 3, 4, 2, 7]\n",
    "\n",
    "list4.append(5)\n",
    "list4"
   ]
  },
  {
   "cell_type": "code",
   "execution_count": 41,
   "metadata": {
    "ExecuteTime": {
     "end_time": "2019-12-20T06:14:04.086209Z",
     "start_time": "2019-12-20T06:14:04.083233Z"
    }
   },
   "outputs": [
    {
     "data": {
      "text/plain": [
       "[7, 7, 1, 3, 4, 2, 7, 5]"
      ]
     },
     "execution_count": 41,
     "metadata": {},
     "output_type": "execute_result"
    }
   ],
   "source": [
    "list4.insert(0,7)\n",
    "list4"
   ]
  },
  {
   "cell_type": "code",
   "execution_count": 42,
   "metadata": {
    "ExecuteTime": {
     "end_time": "2019-12-20T06:14:04.093410Z",
     "start_time": "2019-12-20T06:14:04.090518Z"
    }
   },
   "outputs": [
    {
     "data": {
      "text/plain": [
       "[7, 7, 1, 3, 3, 4, 2, 7, 5]"
      ]
     },
     "execution_count": 42,
     "metadata": {},
     "output_type": "execute_result"
    }
   ],
   "source": [
    "list4.insert(3,3)\n",
    "list4\n"
   ]
  },
  {
   "cell_type": "code",
   "execution_count": 43,
   "metadata": {
    "ExecuteTime": {
     "end_time": "2019-12-20T06:14:04.099644Z",
     "start_time": "2019-12-20T06:14:04.095881Z"
    }
   },
   "outputs": [
    {
     "data": {
      "text/plain": [
       "[7, 7, 1, 3, 3, 4, 2]"
      ]
     },
     "execution_count": 43,
     "metadata": {},
     "output_type": "execute_result"
    }
   ],
   "source": [
    "del list4 [-2::]\n",
    "list4"
   ]
  },
  {
   "cell_type": "code",
   "execution_count": 46,
   "metadata": {
    "ExecuteTime": {
     "end_time": "2019-12-20T06:14:04.104653Z",
     "start_time": "2019-12-20T06:14:04.101742Z"
    }
   },
   "outputs": [
    {
     "data": {
      "text/plain": [
       "[2, 4, 3, 3, 1, 7, 7]"
      ]
     },
     "execution_count": 46,
     "metadata": {},
     "output_type": "execute_result"
    }
   ],
   "source": [
    "list4.reverse()\n",
    "list4"
   ]
  },
  {
   "cell_type": "code",
   "execution_count": 48,
   "metadata": {
    "ExecuteTime": {
     "end_time": "2019-12-20T06:14:04.109104Z",
     "start_time": "2019-12-20T06:14:04.106560Z"
    }
   },
   "outputs": [
    {
     "data": {
      "text/plain": [
       "[1, 2, 3, 3, 4, 7, 7]"
      ]
     },
     "execution_count": 48,
     "metadata": {},
     "output_type": "execute_result"
    }
   ],
   "source": [
    "list4.sort()\n",
    "list4"
   ]
  },
  {
   "cell_type": "code",
   "execution_count": null,
   "metadata": {},
   "outputs": [],
   "source": []
  }
 ],
 "metadata": {
  "kernelspec": {
   "display_name": "Python 3",
   "language": "python",
   "name": "python3"
  },
  "language_info": {
   "codemirror_mode": {
    "name": "ipython",
    "version": 3
   },
   "file_extension": ".py",
   "mimetype": "text/x-python",
   "name": "python",
   "nbconvert_exporter": "python",
   "pygments_lexer": "ipython3",
   "version": "3.7.4"
  },
  "toc": {
   "base_numbering": 1,
   "nav_menu": {},
   "number_sections": true,
   "sideBar": true,
   "skip_h1_title": false,
   "title_cell": "Table of Contents",
   "title_sidebar": "Contents",
   "toc_cell": false,
   "toc_position": {
    "height": "calc(100% - 180px)",
    "left": "10px",
    "top": "150px",
    "width": "165px"
   },
   "toc_section_display": true,
   "toc_window_display": true
  }
 },
 "nbformat": 4,
 "nbformat_minor": 2
}
